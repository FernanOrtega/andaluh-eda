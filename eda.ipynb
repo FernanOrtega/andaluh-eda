{
 "cells": [
  {
   "cell_type": "code",
   "execution_count": 24,
   "metadata": {
    "collapsed": true,
    "pycharm": {
     "is_executing": false
    }
   },
   "outputs": [],
   "source": [
    "import pandas as pd\n",
    "from eda_utils import get_inv_df_counts\n",
    "import matplotlib.pyplot as plt"
   ]
  },
  {
   "cell_type": "markdown",
   "source": [
    "**Important note:** I use ES-cas and ES-and to refer to Castilian Spanish and Andalûh Spanish.\n",
    "\n",
    "Let's import the data and see some examples."
   ],
   "metadata": {
    "collapsed": false,
    "pycharm": {
     "name": "#%% md\n"
    }
   }
  },
  {
   "cell_type": "code",
   "execution_count": null,
   "outputs": [],
   "source": [
    "df = pd.read_csv('data/entries_es_and.csv')\n",
    "df.head()"
   ],
   "metadata": {
    "collapsed": false,
    "pycharm": {
     "name": "#%%\n"
    }
   }
  },
  {
   "cell_type": "code",
   "execution_count": 4,
   "outputs": [
    {
     "data": {
      "text/plain": "             cas   and_çj      and_sj     and_zj  and_hj   and_çh   and_sh  \\\ncount     556424   556424      556424     556424  556424   556424   556424   \nunique    556424   533618      533564     533768  533714   533768   533714   \ntop     intuyere  injerîh  trâffundîh  côttreñîh     bôh  injerîh  inherîh   \nfreq           1        6           6          6       6        6        6   \n\n        and_zh   and_hh  \ncount   556424   556424  \nunique  533619   529999  \ntop      ôttâh  inherîh  \nfreq         6        9  ",
      "text/html": "<div>\n<style scoped>\n    .dataframe tbody tr th:only-of-type {\n        vertical-align: middle;\n    }\n\n    .dataframe tbody tr th {\n        vertical-align: top;\n    }\n\n    .dataframe thead th {\n        text-align: right;\n    }\n</style>\n<table border=\"1\" class=\"dataframe\">\n  <thead>\n    <tr style=\"text-align: right;\">\n      <th></th>\n      <th>cas</th>\n      <th>and_çj</th>\n      <th>and_sj</th>\n      <th>and_zj</th>\n      <th>and_hj</th>\n      <th>and_çh</th>\n      <th>and_sh</th>\n      <th>and_zh</th>\n      <th>and_hh</th>\n    </tr>\n  </thead>\n  <tbody>\n    <tr>\n      <th>count</th>\n      <td>556424</td>\n      <td>556424</td>\n      <td>556424</td>\n      <td>556424</td>\n      <td>556424</td>\n      <td>556424</td>\n      <td>556424</td>\n      <td>556424</td>\n      <td>556424</td>\n    </tr>\n    <tr>\n      <th>unique</th>\n      <td>556424</td>\n      <td>533618</td>\n      <td>533564</td>\n      <td>533768</td>\n      <td>533714</td>\n      <td>533768</td>\n      <td>533714</td>\n      <td>533619</td>\n      <td>529999</td>\n    </tr>\n    <tr>\n      <th>top</th>\n      <td>intuyere</td>\n      <td>injerîh</td>\n      <td>trâffundîh</td>\n      <td>côttreñîh</td>\n      <td>bôh</td>\n      <td>injerîh</td>\n      <td>inherîh</td>\n      <td>ôttâh</td>\n      <td>inherîh</td>\n    </tr>\n    <tr>\n      <th>freq</th>\n      <td>1</td>\n      <td>6</td>\n      <td>6</td>\n      <td>6</td>\n      <td>6</td>\n      <td>6</td>\n      <td>6</td>\n      <td>6</td>\n      <td>9</td>\n    </tr>\n  </tbody>\n</table>\n</div>"
     },
     "metadata": {},
     "output_type": "execute_result",
     "execution_count": 4
    }
   ],
   "source": [
    "df.describe()"
   ],
   "metadata": {
    "collapsed": false,
    "pycharm": {
     "name": "#%%\n",
     "is_executing": false
    }
   }
  },
  {
   "cell_type": "code",
   "execution_count": 5,
   "outputs": [
    {
     "data": {
      "text/plain": "           cas and_çj and_sj and_zj and_hj and_çh and_sh and_zh and_hh\n556419  útiles  útilê  útilê  útilê  útilê  útilê  útilê  útilê  útilê\n556420    úvea   úbea   úbea   úbea   úbea   úbea   úbea   úbea   úbea\n556421   úveas   úbeâ   úbeâ   úbeâ   úbeâ   úbeâ   úbeâ   úbeâ   úbeâ\n556422   úvula  úbula  úbula  úbula  úbula  úbula  úbula  úbula  úbula\n556423  úvulas  úbulâ  úbulâ  úbulâ  úbulâ  úbulâ  úbulâ  úbulâ  úbulâ",
      "text/html": "<div>\n<style scoped>\n    .dataframe tbody tr th:only-of-type {\n        vertical-align: middle;\n    }\n\n    .dataframe tbody tr th {\n        vertical-align: top;\n    }\n\n    .dataframe thead th {\n        text-align: right;\n    }\n</style>\n<table border=\"1\" class=\"dataframe\">\n  <thead>\n    <tr style=\"text-align: right;\">\n      <th></th>\n      <th>cas</th>\n      <th>and_çj</th>\n      <th>and_sj</th>\n      <th>and_zj</th>\n      <th>and_hj</th>\n      <th>and_çh</th>\n      <th>and_sh</th>\n      <th>and_zh</th>\n      <th>and_hh</th>\n    </tr>\n  </thead>\n  <tbody>\n    <tr>\n      <th>556419</th>\n      <td>útiles</td>\n      <td>útilê</td>\n      <td>útilê</td>\n      <td>útilê</td>\n      <td>útilê</td>\n      <td>útilê</td>\n      <td>útilê</td>\n      <td>útilê</td>\n      <td>útilê</td>\n    </tr>\n    <tr>\n      <th>556420</th>\n      <td>úvea</td>\n      <td>úbea</td>\n      <td>úbea</td>\n      <td>úbea</td>\n      <td>úbea</td>\n      <td>úbea</td>\n      <td>úbea</td>\n      <td>úbea</td>\n      <td>úbea</td>\n    </tr>\n    <tr>\n      <th>556421</th>\n      <td>úveas</td>\n      <td>úbeâ</td>\n      <td>úbeâ</td>\n      <td>úbeâ</td>\n      <td>úbeâ</td>\n      <td>úbeâ</td>\n      <td>úbeâ</td>\n      <td>úbeâ</td>\n      <td>úbeâ</td>\n    </tr>\n    <tr>\n      <th>556422</th>\n      <td>úvula</td>\n      <td>úbula</td>\n      <td>úbula</td>\n      <td>úbula</td>\n      <td>úbula</td>\n      <td>úbula</td>\n      <td>úbula</td>\n      <td>úbula</td>\n      <td>úbula</td>\n    </tr>\n    <tr>\n      <th>556423</th>\n      <td>úvulas</td>\n      <td>úbulâ</td>\n      <td>úbulâ</td>\n      <td>úbulâ</td>\n      <td>úbulâ</td>\n      <td>úbulâ</td>\n      <td>úbulâ</td>\n      <td>úbulâ</td>\n      <td>úbulâ</td>\n    </tr>\n  </tbody>\n</table>\n</div>"
     },
     "metadata": {},
     "output_type": "execute_result",
     "execution_count": 5
    }
   ],
   "source": [
    "df.tail()"
   ],
   "metadata": {
    "collapsed": false,
    "pycharm": {
     "name": "#%%\n",
     "is_executing": false
    }
   }
  },
  {
   "cell_type": "markdown",
   "source": [
    "This function computes the homographs from ES-and to ES-cas and also the number of words that corresponds to the same homograph."
   ],
   "metadata": {
    "collapsed": false,
    "pycharm": {
     "name": "#%% md\n"
    }
   }
  },
  {
   "cell_type": "code",
   "execution_count": 8,
   "outputs": [],
   "source": [
    "df_homographs = get_inv_df_counts(df)"
   ],
   "metadata": {
    "collapsed": false,
    "pycharm": {
     "name": "#%%\n",
     "is_executing": false
    }
   }
  },
  {
   "cell_type": "markdown",
   "source": [
    "Let's take a look on the top-50 values (I also configured pandas to not truncate data)"
   ],
   "metadata": {
    "collapsed": false,
    "pycharm": {
     "name": "#%% md\n",
     "is_executing": false
    }
   }
  },
  {
   "cell_type": "code",
   "source": [
    "pd.set_option('display.max_colwidth', -1)\n",
    "df_homographs.sort_values('cas_count', ascending=0).head(50)"
   ],
   "metadata": {
    "collapsed": false,
    "pycharm": {
     "name": "#%% \n",
     "is_executing": false
    }
   },
   "execution_count": 16,
   "outputs": [
    {
     "name": "stderr",
     "text": [
      "C:\\Users\\Fernando\\Anaconda3\\envs\\RandomCoding\\lib\\site-packages\\ipykernel_launcher.py:1: FutureWarning: Passing a negative integer is deprecated in version 1.0 and will not be supported in future version. Instead, use None to not limit the column width.\n  \"\"\"Entry point for launching an IPython kernel.\n"
     ],
     "output_type": "stream"
    },
    {
     "data": {
      "text/plain": "                and  \\\n36735    inherîh      \n1043843  boheá        \n9769     boheâh       \n476345   ahâh         \n78643    bahâh        \n46642    retahá       \n528404   trâccribîh   \n684892   retahâh      \n144371   çûccribîh    \n96465    haqueá       \n1198582  bozeâh       \n1032701  trâggredîh   \n365562   trâl-luzîh   \n5911     dehohá       \n70360    boçeá        \n826774   trâl-lusîh   \n1039898  çûttançiâh   \n146769   hûttituîh    \n201496   alihâh       \n892203   âttrinjîh    \n1120370  bôh          \n997058   trâffundîh   \n602682   sûttansiâh   \n735003   hurhîh       \n920409   mahâh        \n610248   zûttituîh    \n293039   côttreñîh    \n1198188  boseâh       \n1118067  zûccribîh    \n282432   trâmmitîh    \n1071873  hûccribîh    \n672054   injerîh      \n549932   unhîh        \n882773   sûttituîh    \n155920   trâfferîh    \n1193366  haqueâh      \n620984   âttrinhîh    \n297412   trâccurrîh   \n418433   boseá        \n1216755  dehohâh      \n1011285  çûttituîh    \n1055771  boçeâh       \n861303   zûttanziâh   \n164790   hûttanhiâh   \n870331   bozeá        \n706144   trâl-luçîh   \n761948   ôttâh        \n422388   trâl-luhîh   \n1063966  ahá          \n796299   sûccribîh    \n\n                                                                                       cas  \\\n36735    {inserid, ingerid, injerid, inserir, ingerir, injerís, ingerís, inserís, injerir}   \n1043843  {bocead, voseada, voceada, boceada, vosead, bojeada, vocead, bojead, boghead}       \n9769     {vosear, voseadas, bojear, bojeadas, vocear, boceadas, bocear, voceadas}            \n476345   {asaz, ajar, asadas, ajadas, azar, azadas, asar}                                    \n78643    {basal, vasar, basar, bazar, basadas, bajar, bajadas}                               \n46642    {retasada, retazad, retasad, retazada, retajad, retajada}                           \n528404   {trascribir, transcribís, trascribid, transcribir, transcribid, trascribís}         \n684892   {retasadas, retazar, retajar, retazadas, retasar, retajadas}                        \n144371   {subscribid, suscribís, subscribir, suscribid, suscribir, subscribís}               \n96465    {saqueada, zaquead, jaquead, zaqueada, jaqueada, saquead}                           \n1198582  {vosear, voseadas, vocear, boceadas, bocear, voceadas}                              \n1032701  {transgredís, trasgredir, trasgredid, trasgredís, transgredid, transgredir}         \n365562   {translucid, translucir, traslucís, translucís, traslucid, traslucir}               \n5911     {deshojad, deshojada, desojad, desosada, desojada, desosad}                         \n70360    {bocead, voseada, voceada, boceada, vosead, vocead}                                 \n826774   {translucid, translucir, traslucís, translucís, traslucid, traslucir}               \n1039898  {sustanciar, sustanciadas, substanciar, sustancial, substancial, substanciadas}     \n146769   {substituís, substituid, substituir, sustituir, sustituid, sustituís}               \n201496   {alijadas, alisar, alizar, alisadas, alisal, alijar}                                \n892203   {adstringir, adstringid, astringís, adstringís, astringir, astringid}               \n1120370  {boj, bob, bol, vor, box, voz}                                                      \n997058   {transfundís, transfundir, transfundid, trasfundid, trasfundís, trasfundir}         \n602682   {sustanciar, sustanciadas, substanciar, sustancial, substancial, substanciadas}     \n735003   {surgir, surgís, zurcís, zurcid, surgid, zurcir}                                    \n920409   {majar, masadas, majal, majadas, mazadas, mazar}                                    \n610248   {substituís, substituid, substituir, sustituir, sustituid, sustituís}               \n293039   {constreñir, costreñid, costreñir, constreñís, costreñís, constreñid}               \n1198188  {vosear, voseadas, vocear, boceadas, bocear, voceadas}                              \n1118067  {subscribid, suscribís, subscribir, suscribid, suscribir, subscribís}               \n282432   {transmitís, trasmitir, transmitid, transmitir, trasmitid, trasmitís}               \n1071873  {subscribid, suscribís, subscribir, suscribid, suscribir, subscribís}               \n672054   {injerid, ingerid, ingerir, injerís, ingerís, injerir}                              \n549932   {uncís, uncir, ungir, uncid, ungís, ungid}                                          \n882773   {substituís, substituid, substituir, sustituir, sustituid, sustituís}               \n155920   {transferir, trasferir, transferís, trasferid, transferid, trasferís}               \n1193366  {saquear, zaqueadas, jaqueadas, jaquear, saqueadas, zaquear}                        \n620984   {adstringir, adstringid, astringís, adstringís, astringir, astringid}               \n297412   {trascurrir, trascurrid, transcurrid, transcurrir, transcurrís, trascurrís}         \n418433   {bocead, voseada, voceada, boceada, vosead, vocead}                                 \n1216755  {desosadas, desosar, deshojadas, desojadas, desojar, deshojar}                      \n1011285  {substituís, substituid, substituir, sustituir, sustituid, sustituís}               \n1055771  {vosear, voseadas, vocear, boceadas, bocear, voceadas}                              \n861303   {sustanciar, sustanciadas, substanciar, sustancial, substancial, substanciadas}     \n164790   {sustanciar, sustanciadas, substanciar, sustancial, substancial, substanciadas}     \n870331   {bocead, voseada, voceada, boceada, vosead, vocead}                                 \n706144   {translucid, translucir, traslucís, translucís, traslucid, traslucir}               \n761948   {optar, octal, hostal, obstadas, obstar, optadas}                                   \n422388   {translucid, translucir, traslucís, translucís, traslucid, traslucir}               \n1063966  {ajad, azada, asad, ajada, asada, ajá}                                              \n796299   {subscribid, suscribís, subscribir, suscribid, suscribir, subscribís}               \n\n         cas_count  \n36735    9          \n1043843  9          \n9769     8          \n476345   7          \n78643    7          \n46642    6          \n528404   6          \n684892   6          \n144371   6          \n96465    6          \n1198582  6          \n1032701  6          \n365562   6          \n5911     6          \n70360    6          \n826774   6          \n1039898  6          \n146769   6          \n201496   6          \n892203   6          \n1120370  6          \n997058   6          \n602682   6          \n735003   6          \n920409   6          \n610248   6          \n293039   6          \n1198188  6          \n1118067  6          \n282432   6          \n1071873  6          \n672054   6          \n549932   6          \n882773   6          \n155920   6          \n1193366  6          \n620984   6          \n297412   6          \n418433   6          \n1216755  6          \n1011285  6          \n1055771  6          \n861303   6          \n164790   6          \n870331   6          \n706144   6          \n761948   6          \n422388   6          \n1063966  6          \n796299   6          ",
      "text/html": "<div>\n<style scoped>\n    .dataframe tbody tr th:only-of-type {\n        vertical-align: middle;\n    }\n\n    .dataframe tbody tr th {\n        vertical-align: top;\n    }\n\n    .dataframe thead th {\n        text-align: right;\n    }\n</style>\n<table border=\"1\" class=\"dataframe\">\n  <thead>\n    <tr style=\"text-align: right;\">\n      <th></th>\n      <th>and</th>\n      <th>cas</th>\n      <th>cas_count</th>\n    </tr>\n  </thead>\n  <tbody>\n    <tr>\n      <th>36735</th>\n      <td>inherîh</td>\n      <td>{inserid, ingerid, injerid, inserir, ingerir, injerís, ingerís, inserís, injerir}</td>\n      <td>9</td>\n    </tr>\n    <tr>\n      <th>1043843</th>\n      <td>boheá</td>\n      <td>{bocead, voseada, voceada, boceada, vosead, bojeada, vocead, bojead, boghead}</td>\n      <td>9</td>\n    </tr>\n    <tr>\n      <th>9769</th>\n      <td>boheâh</td>\n      <td>{vosear, voseadas, bojear, bojeadas, vocear, boceadas, bocear, voceadas}</td>\n      <td>8</td>\n    </tr>\n    <tr>\n      <th>476345</th>\n      <td>ahâh</td>\n      <td>{asaz, ajar, asadas, ajadas, azar, azadas, asar}</td>\n      <td>7</td>\n    </tr>\n    <tr>\n      <th>78643</th>\n      <td>bahâh</td>\n      <td>{basal, vasar, basar, bazar, basadas, bajar, bajadas}</td>\n      <td>7</td>\n    </tr>\n    <tr>\n      <th>46642</th>\n      <td>retahá</td>\n      <td>{retasada, retazad, retasad, retazada, retajad, retajada}</td>\n      <td>6</td>\n    </tr>\n    <tr>\n      <th>528404</th>\n      <td>trâccribîh</td>\n      <td>{trascribir, transcribís, trascribid, transcribir, transcribid, trascribís}</td>\n      <td>6</td>\n    </tr>\n    <tr>\n      <th>684892</th>\n      <td>retahâh</td>\n      <td>{retasadas, retazar, retajar, retazadas, retasar, retajadas}</td>\n      <td>6</td>\n    </tr>\n    <tr>\n      <th>144371</th>\n      <td>çûccribîh</td>\n      <td>{subscribid, suscribís, subscribir, suscribid, suscribir, subscribís}</td>\n      <td>6</td>\n    </tr>\n    <tr>\n      <th>96465</th>\n      <td>haqueá</td>\n      <td>{saqueada, zaquead, jaquead, zaqueada, jaqueada, saquead}</td>\n      <td>6</td>\n    </tr>\n    <tr>\n      <th>1198582</th>\n      <td>bozeâh</td>\n      <td>{vosear, voseadas, vocear, boceadas, bocear, voceadas}</td>\n      <td>6</td>\n    </tr>\n    <tr>\n      <th>1032701</th>\n      <td>trâggredîh</td>\n      <td>{transgredís, trasgredir, trasgredid, trasgredís, transgredid, transgredir}</td>\n      <td>6</td>\n    </tr>\n    <tr>\n      <th>365562</th>\n      <td>trâl-luzîh</td>\n      <td>{translucid, translucir, traslucís, translucís, traslucid, traslucir}</td>\n      <td>6</td>\n    </tr>\n    <tr>\n      <th>5911</th>\n      <td>dehohá</td>\n      <td>{deshojad, deshojada, desojad, desosada, desojada, desosad}</td>\n      <td>6</td>\n    </tr>\n    <tr>\n      <th>70360</th>\n      <td>boçeá</td>\n      <td>{bocead, voseada, voceada, boceada, vosead, vocead}</td>\n      <td>6</td>\n    </tr>\n    <tr>\n      <th>826774</th>\n      <td>trâl-lusîh</td>\n      <td>{translucid, translucir, traslucís, translucís, traslucid, traslucir}</td>\n      <td>6</td>\n    </tr>\n    <tr>\n      <th>1039898</th>\n      <td>çûttançiâh</td>\n      <td>{sustanciar, sustanciadas, substanciar, sustancial, substancial, substanciadas}</td>\n      <td>6</td>\n    </tr>\n    <tr>\n      <th>146769</th>\n      <td>hûttituîh</td>\n      <td>{substituís, substituid, substituir, sustituir, sustituid, sustituís}</td>\n      <td>6</td>\n    </tr>\n    <tr>\n      <th>201496</th>\n      <td>alihâh</td>\n      <td>{alijadas, alisar, alizar, alisadas, alisal, alijar}</td>\n      <td>6</td>\n    </tr>\n    <tr>\n      <th>892203</th>\n      <td>âttrinjîh</td>\n      <td>{adstringir, adstringid, astringís, adstringís, astringir, astringid}</td>\n      <td>6</td>\n    </tr>\n    <tr>\n      <th>1120370</th>\n      <td>bôh</td>\n      <td>{boj, bob, bol, vor, box, voz}</td>\n      <td>6</td>\n    </tr>\n    <tr>\n      <th>997058</th>\n      <td>trâffundîh</td>\n      <td>{transfundís, transfundir, transfundid, trasfundid, trasfundís, trasfundir}</td>\n      <td>6</td>\n    </tr>\n    <tr>\n      <th>602682</th>\n      <td>sûttansiâh</td>\n      <td>{sustanciar, sustanciadas, substanciar, sustancial, substancial, substanciadas}</td>\n      <td>6</td>\n    </tr>\n    <tr>\n      <th>735003</th>\n      <td>hurhîh</td>\n      <td>{surgir, surgís, zurcís, zurcid, surgid, zurcir}</td>\n      <td>6</td>\n    </tr>\n    <tr>\n      <th>920409</th>\n      <td>mahâh</td>\n      <td>{majar, masadas, majal, majadas, mazadas, mazar}</td>\n      <td>6</td>\n    </tr>\n    <tr>\n      <th>610248</th>\n      <td>zûttituîh</td>\n      <td>{substituís, substituid, substituir, sustituir, sustituid, sustituís}</td>\n      <td>6</td>\n    </tr>\n    <tr>\n      <th>293039</th>\n      <td>côttreñîh</td>\n      <td>{constreñir, costreñid, costreñir, constreñís, costreñís, constreñid}</td>\n      <td>6</td>\n    </tr>\n    <tr>\n      <th>1198188</th>\n      <td>boseâh</td>\n      <td>{vosear, voseadas, vocear, boceadas, bocear, voceadas}</td>\n      <td>6</td>\n    </tr>\n    <tr>\n      <th>1118067</th>\n      <td>zûccribîh</td>\n      <td>{subscribid, suscribís, subscribir, suscribid, suscribir, subscribís}</td>\n      <td>6</td>\n    </tr>\n    <tr>\n      <th>282432</th>\n      <td>trâmmitîh</td>\n      <td>{transmitís, trasmitir, transmitid, transmitir, trasmitid, trasmitís}</td>\n      <td>6</td>\n    </tr>\n    <tr>\n      <th>1071873</th>\n      <td>hûccribîh</td>\n      <td>{subscribid, suscribís, subscribir, suscribid, suscribir, subscribís}</td>\n      <td>6</td>\n    </tr>\n    <tr>\n      <th>672054</th>\n      <td>injerîh</td>\n      <td>{injerid, ingerid, ingerir, injerís, ingerís, injerir}</td>\n      <td>6</td>\n    </tr>\n    <tr>\n      <th>549932</th>\n      <td>unhîh</td>\n      <td>{uncís, uncir, ungir, uncid, ungís, ungid}</td>\n      <td>6</td>\n    </tr>\n    <tr>\n      <th>882773</th>\n      <td>sûttituîh</td>\n      <td>{substituís, substituid, substituir, sustituir, sustituid, sustituís}</td>\n      <td>6</td>\n    </tr>\n    <tr>\n      <th>155920</th>\n      <td>trâfferîh</td>\n      <td>{transferir, trasferir, transferís, trasferid, transferid, trasferís}</td>\n      <td>6</td>\n    </tr>\n    <tr>\n      <th>1193366</th>\n      <td>haqueâh</td>\n      <td>{saquear, zaqueadas, jaqueadas, jaquear, saqueadas, zaquear}</td>\n      <td>6</td>\n    </tr>\n    <tr>\n      <th>620984</th>\n      <td>âttrinhîh</td>\n      <td>{adstringir, adstringid, astringís, adstringís, astringir, astringid}</td>\n      <td>6</td>\n    </tr>\n    <tr>\n      <th>297412</th>\n      <td>trâccurrîh</td>\n      <td>{trascurrir, trascurrid, transcurrid, transcurrir, transcurrís, trascurrís}</td>\n      <td>6</td>\n    </tr>\n    <tr>\n      <th>418433</th>\n      <td>boseá</td>\n      <td>{bocead, voseada, voceada, boceada, vosead, vocead}</td>\n      <td>6</td>\n    </tr>\n    <tr>\n      <th>1216755</th>\n      <td>dehohâh</td>\n      <td>{desosadas, desosar, deshojadas, desojadas, desojar, deshojar}</td>\n      <td>6</td>\n    </tr>\n    <tr>\n      <th>1011285</th>\n      <td>çûttituîh</td>\n      <td>{substituís, substituid, substituir, sustituir, sustituid, sustituís}</td>\n      <td>6</td>\n    </tr>\n    <tr>\n      <th>1055771</th>\n      <td>boçeâh</td>\n      <td>{vosear, voseadas, vocear, boceadas, bocear, voceadas}</td>\n      <td>6</td>\n    </tr>\n    <tr>\n      <th>861303</th>\n      <td>zûttanziâh</td>\n      <td>{sustanciar, sustanciadas, substanciar, sustancial, substancial, substanciadas}</td>\n      <td>6</td>\n    </tr>\n    <tr>\n      <th>164790</th>\n      <td>hûttanhiâh</td>\n      <td>{sustanciar, sustanciadas, substanciar, sustancial, substancial, substanciadas}</td>\n      <td>6</td>\n    </tr>\n    <tr>\n      <th>870331</th>\n      <td>bozeá</td>\n      <td>{bocead, voseada, voceada, boceada, vosead, vocead}</td>\n      <td>6</td>\n    </tr>\n    <tr>\n      <th>706144</th>\n      <td>trâl-luçîh</td>\n      <td>{translucid, translucir, traslucís, translucís, traslucid, traslucir}</td>\n      <td>6</td>\n    </tr>\n    <tr>\n      <th>761948</th>\n      <td>ôttâh</td>\n      <td>{optar, octal, hostal, obstadas, obstar, optadas}</td>\n      <td>6</td>\n    </tr>\n    <tr>\n      <th>422388</th>\n      <td>trâl-luhîh</td>\n      <td>{translucid, translucir, traslucís, translucís, traslucid, traslucir}</td>\n      <td>6</td>\n    </tr>\n    <tr>\n      <th>1063966</th>\n      <td>ahá</td>\n      <td>{ajad, azada, asad, ajada, asada, ajá}</td>\n      <td>6</td>\n    </tr>\n    <tr>\n      <th>796299</th>\n      <td>sûccribîh</td>\n      <td>{subscribid, suscribís, subscribir, suscribid, suscribir, subscribís}</td>\n      <td>6</td>\n    </tr>\n  </tbody>\n</table>\n</div>"
     },
     "metadata": {},
     "output_type": "execute_result",
     "execution_count": 16
    }
   ]
  },
  {
   "cell_type": "markdown",
   "source": [
    "The following value is just the percentaje of andalusian words with the homographs problem. "
   ],
   "metadata": {
    "collapsed": false,
    "pycharm": {
     "name": "#%% md\n",
     "is_executing": false
    }
   }
  },
  {
   "cell_type": "code",
   "execution_count": 20,
   "outputs": [
    {
     "data": {
      "text/plain": "0.040866784895988405"
     },
     "metadata": {},
     "output_type": "execute_result",
     "execution_count": 20
    }
   ],
   "source": [
    "df_homographs_multiple = df_homographs[df_homographs.cas_count > 1].copy()\n",
    "len(df_homographs_multiple.index) / len(df_homographs.index)"
   ],
   "metadata": {
    "collapsed": false,
    "pycharm": {
     "name": "#%%\n",
     "is_executing": false
    }
   }
  },
  {
   "cell_type": "markdown",
   "source": [
    "It's just a little set of them so this dictionary can be used as an accurate transliterator from ES-and to ES-cas."
   ],
   "metadata": {
    "collapsed": false,
    "pycharm": {
     "name": "#%% md\n"
    }
   }
  },
  {
   "cell_type": "markdown",
   "source": [
    "Let's now to analyse the distribution of this ambiguity problem (cas_count > 1)."
   ],
   "metadata": {
    "collapsed": false,
    "pycharm": {
     "name": "#%% md\n"
    }
   }
  },
  {
   "cell_type": "code",
   "execution_count": 21,
   "outputs": [
    {
     "data": {
      "text/plain": "          cas_count\ncount  50512.000000\nmean   2.079367    \nstd    0.338417    \nmin    2.000000    \n25%    2.000000    \n50%    2.000000    \n75%    2.000000    \nmax    9.000000    ",
      "text/html": "<div>\n<style scoped>\n    .dataframe tbody tr th:only-of-type {\n        vertical-align: middle;\n    }\n\n    .dataframe tbody tr th {\n        vertical-align: top;\n    }\n\n    .dataframe thead th {\n        text-align: right;\n    }\n</style>\n<table border=\"1\" class=\"dataframe\">\n  <thead>\n    <tr style=\"text-align: right;\">\n      <th></th>\n      <th>cas_count</th>\n    </tr>\n  </thead>\n  <tbody>\n    <tr>\n      <th>count</th>\n      <td>50512.000000</td>\n    </tr>\n    <tr>\n      <th>mean</th>\n      <td>2.079367</td>\n    </tr>\n    <tr>\n      <th>std</th>\n      <td>0.338417</td>\n    </tr>\n    <tr>\n      <th>min</th>\n      <td>2.000000</td>\n    </tr>\n    <tr>\n      <th>25%</th>\n      <td>2.000000</td>\n    </tr>\n    <tr>\n      <th>50%</th>\n      <td>2.000000</td>\n    </tr>\n    <tr>\n      <th>75%</th>\n      <td>2.000000</td>\n    </tr>\n    <tr>\n      <th>max</th>\n      <td>9.000000</td>\n    </tr>\n  </tbody>\n</table>\n</div>"
     },
     "metadata": {},
     "output_type": "execute_result",
     "execution_count": 21
    }
   ],
   "source": [
    "df_homographs_multiple.describe()"
   ],
   "metadata": {
    "collapsed": false,
    "pycharm": {
     "name": "#%%\n",
     "is_executing": false
    }
   }
  },
  {
   "cell_type": "code",
   "execution_count": 26,
   "outputs": [
    {
     "data": {
      "text/plain": "array([[<matplotlib.axes._subplots.AxesSubplot object at 0x00000257D2D84828>]],\n      dtype=object)"
     },
     "metadata": {},
     "output_type": "execute_result",
     "execution_count": 26
    },
    {
     "data": {
      "text/plain": "<Figure size 432x288 with 1 Axes>",
      "image/png": "[encoded data removed]"
     },
     "metadata": {
      "needs_background": "light"
     },
     "output_type": "display_data"
    }
   ],
   "source": [
    "df_homographs_multiple.hist(column='cas_count')"
   ],
   "metadata": {
    "collapsed": false,
    "pycharm": {
     "name": "#%%\n",
     "is_executing": false
    }
   }
  },
  {
   "cell_type": "code",
   "execution_count": 27,
   "outputs": [
    {
     "data": {
      "text/plain": "array([[<matplotlib.axes._subplots.AxesSubplot object at 0x00000257D1F690B8>]],\n      dtype=object)"
     },
     "metadata": {},
     "output_type": "execute_result",
     "execution_count": 27
    },
    {
     "data": {
      "text/plain": "<Figure size 432x288 with 1 Axes>",
      "image/png": "[encoded data removed]"
     },
     "metadata": {
      "needs_background": "light"
     },
     "output_type": "display_data"
    }
   ],
   "source": [
    "df_homographs[df_homographs.cas_count > 2].hist(column='cas_count')"
   ],
   "metadata": {
    "collapsed": false,
    "pycharm": {
     "name": "#%%\n",
     "is_executing": false
    }
   }
  },
  {
   "cell_type": "markdown",
   "source": [
    "So, it's clear that the majority of homographs contains 2 or 3 corresponding words in ES-cas\n",
    "\n",
    "Let's save homographs dataframe to use later."
   ],
   "metadata": {
    "collapsed": false,
    "pycharm": {
     "name": "#%% md\n"
    }
   }
  },
  {
   "cell_type": "code",
   "execution_count": 29,
   "outputs": [],
   "source": [
    "df_homographs.to_csv('data/homographs', index=False)"
   ],
   "metadata": {
    "collapsed": false,
    "pycharm": {
     "name": "#%%\n",
     "is_executing": false
    }
   }
  },
  {
   "cell_type": "code",
   "execution_count": null,
   "outputs": [],
   "source": [
    "\n"
   ],
   "metadata": {
    "collapsed": false,
    "pycharm": {
     "name": "#%%\n"
    }
   }
  }
 ],
 "metadata": {
  "language_info": {
   "codemirror_mode": {
    "name": "ipython",
    "version": 2
   },
   "file_extension": ".py",
   "mimetype": "text/x-python",
   "name": "python",
   "nbconvert_exporter": "python",
   "pygments_lexer": "ipython2",
   "version": "2.7.6"
  },
  "kernelspec": {
   "name": "pycharm-857a084d",
   "language": "python",
   "display_name": "PyCharm (RandomCoding)"
  },
  "pycharm": {
   "stem_cell": {
    "cell_type": "raw",
    "source": [],
    "metadata": {
     "collapsed": false
    }
   }
  }
 },
 "nbformat": 4,
 "nbformat_minor": 0
}