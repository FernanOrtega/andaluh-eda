{
 "cells": [
  {
   "cell_type": "code",
   "execution_count": 5,
   "metadata": {
    "collapsed": true,
    "pycharm": {
     "is_executing": false
    }
   },
   "outputs": [],
   "source": [
    "import pandas as pd"
   ]
  },
  {
   "cell_type": "code",
   "execution_count": 6,
   "outputs": [
    {
     "data": {
      "text/plain": "       cas   and_çj   and_sj   and_zj   and_hj   and_çh   and_sh   and_zh  \\\n0        a        a        a        a        a        a        a        a   \n1      aba      aba      aba      aba      aba      aba      aba      aba   \n2    ababa    ababa    ababa    ababa    ababa    ababa    ababa    ababa   \n3  ababais   ababaî   ababaî   ababaî   ababaî   ababaî   ababaî   ababaî   \n4   ababan   ababan   ababan   ababan   ababan   ababan   ababan   ababan   \n\n    and_hh  \n0        a  \n1      aba  \n2    ababa  \n3   ababaî  \n4   ababan  ",
      "text/html": "<div>\n<style scoped>\n    .dataframe tbody tr th:only-of-type {\n        vertical-align: middle;\n    }\n\n    .dataframe tbody tr th {\n        vertical-align: top;\n    }\n\n    .dataframe thead th {\n        text-align: right;\n    }\n</style>\n<table border=\"1\" class=\"dataframe\">\n  <thead>\n    <tr style=\"text-align: right;\">\n      <th></th>\n      <th>cas</th>\n      <th>and_çj</th>\n      <th>and_sj</th>\n      <th>and_zj</th>\n      <th>and_hj</th>\n      <th>and_çh</th>\n      <th>and_sh</th>\n      <th>and_zh</th>\n      <th>and_hh</th>\n    </tr>\n  </thead>\n  <tbody>\n    <tr>\n      <th>0</th>\n      <td>a</td>\n      <td>a</td>\n      <td>a</td>\n      <td>a</td>\n      <td>a</td>\n      <td>a</td>\n      <td>a</td>\n      <td>a</td>\n      <td>a</td>\n    </tr>\n    <tr>\n      <th>1</th>\n      <td>aba</td>\n      <td>aba</td>\n      <td>aba</td>\n      <td>aba</td>\n      <td>aba</td>\n      <td>aba</td>\n      <td>aba</td>\n      <td>aba</td>\n      <td>aba</td>\n    </tr>\n    <tr>\n      <th>2</th>\n      <td>ababa</td>\n      <td>ababa</td>\n      <td>ababa</td>\n      <td>ababa</td>\n      <td>ababa</td>\n      <td>ababa</td>\n      <td>ababa</td>\n      <td>ababa</td>\n      <td>ababa</td>\n    </tr>\n    <tr>\n      <th>3</th>\n      <td>ababais</td>\n      <td>ababaî</td>\n      <td>ababaî</td>\n      <td>ababaî</td>\n      <td>ababaî</td>\n      <td>ababaî</td>\n      <td>ababaî</td>\n      <td>ababaî</td>\n      <td>ababaî</td>\n    </tr>\n    <tr>\n      <th>4</th>\n      <td>ababan</td>\n      <td>ababan</td>\n      <td>ababan</td>\n      <td>ababan</td>\n      <td>ababan</td>\n      <td>ababan</td>\n      <td>ababan</td>\n      <td>ababan</td>\n      <td>ababan</td>\n    </tr>\n  </tbody>\n</table>\n</div>"
     },
     "metadata": {},
     "output_type": "execute_result",
     "execution_count": 6
    }
   ],
   "source": [
    "df = pd.read_csv('data/entries_es_and.csv')\n",
    "df.head()"
   ],
   "metadata": {
    "collapsed": false,
    "pycharm": {
     "name": "#%%\n",
     "is_executing": false
    }
   }
  },
  {
   "cell_type": "code",
   "execution_count": 7,
   "outputs": [
    {
     "data": {
      "text/plain": "             cas  and_çj      and_sj  and_zj    and_hj      and_çh   and_sh  \\\ncount     556424  556424      556424  556424    556424      556424   556424   \nunique    556424  533618      533564  533768    533714      533768   533714   \ntop     parladas   boçeá   çûttituîh   boseá   inherîh   zûccribîh   bozeâh   \nfreq           1       6           6       6         6           6        6   \n\n            and_zh    and_hh  \ncount       556424    556424  \nunique      533619    529999  \ntop      hûccribîh   inherîh  \nfreq             6         9  ",
      "text/html": "<div>\n<style scoped>\n    .dataframe tbody tr th:only-of-type {\n        vertical-align: middle;\n    }\n\n    .dataframe tbody tr th {\n        vertical-align: top;\n    }\n\n    .dataframe thead th {\n        text-align: right;\n    }\n</style>\n<table border=\"1\" class=\"dataframe\">\n  <thead>\n    <tr style=\"text-align: right;\">\n      <th></th>\n      <th>cas</th>\n      <th>and_çj</th>\n      <th>and_sj</th>\n      <th>and_zj</th>\n      <th>and_hj</th>\n      <th>and_çh</th>\n      <th>and_sh</th>\n      <th>and_zh</th>\n      <th>and_hh</th>\n    </tr>\n  </thead>\n  <tbody>\n    <tr>\n      <th>count</th>\n      <td>556424</td>\n      <td>556424</td>\n      <td>556424</td>\n      <td>556424</td>\n      <td>556424</td>\n      <td>556424</td>\n      <td>556424</td>\n      <td>556424</td>\n      <td>556424</td>\n    </tr>\n    <tr>\n      <th>unique</th>\n      <td>556424</td>\n      <td>533618</td>\n      <td>533564</td>\n      <td>533768</td>\n      <td>533714</td>\n      <td>533768</td>\n      <td>533714</td>\n      <td>533619</td>\n      <td>529999</td>\n    </tr>\n    <tr>\n      <th>top</th>\n      <td>parladas</td>\n      <td>boçeá</td>\n      <td>çûttituîh</td>\n      <td>boseá</td>\n      <td>inherîh</td>\n      <td>zûccribîh</td>\n      <td>bozeâh</td>\n      <td>hûccribîh</td>\n      <td>inherîh</td>\n    </tr>\n    <tr>\n      <th>freq</th>\n      <td>1</td>\n      <td>6</td>\n      <td>6</td>\n      <td>6</td>\n      <td>6</td>\n      <td>6</td>\n      <td>6</td>\n      <td>6</td>\n      <td>9</td>\n    </tr>\n  </tbody>\n</table>\n</div>"
     },
     "metadata": {},
     "output_type": "execute_result",
     "execution_count": 7
    }
   ],
   "source": [
    "df.describe()"
   ],
   "metadata": {
    "collapsed": false,
    "pycharm": {
     "name": "#%%\n",
     "is_executing": false
    }
   }
  },
  {
   "cell_type": "code",
   "execution_count": 8,
   "outputs": [
    {
     "data": {
      "text/plain": "           cas  and_çj  and_sj  and_zj  and_hj  and_çh  and_sh  and_zh  and_hh\n556419  útiles   útilê   útilê   útilê   útilê   útilê   útilê   útilê   útilê\n556420    úvea    úbea    úbea    úbea    úbea    úbea    úbea    úbea    úbea\n556421   úveas    úbeâ    úbeâ    úbeâ    úbeâ    úbeâ    úbeâ    úbeâ    úbeâ\n556422   úvula   úbula   úbula   úbula   úbula   úbula   úbula   úbula   úbula\n556423  úvulas   úbulâ   úbulâ   úbulâ   úbulâ   úbulâ   úbulâ   úbulâ   úbulâ",
      "text/html": "<div>\n<style scoped>\n    .dataframe tbody tr th:only-of-type {\n        vertical-align: middle;\n    }\n\n    .dataframe tbody tr th {\n        vertical-align: top;\n    }\n\n    .dataframe thead th {\n        text-align: right;\n    }\n</style>\n<table border=\"1\" class=\"dataframe\">\n  <thead>\n    <tr style=\"text-align: right;\">\n      <th></th>\n      <th>cas</th>\n      <th>and_çj</th>\n      <th>and_sj</th>\n      <th>and_zj</th>\n      <th>and_hj</th>\n      <th>and_çh</th>\n      <th>and_sh</th>\n      <th>and_zh</th>\n      <th>and_hh</th>\n    </tr>\n  </thead>\n  <tbody>\n    <tr>\n      <th>556419</th>\n      <td>útiles</td>\n      <td>útilê</td>\n      <td>útilê</td>\n      <td>útilê</td>\n      <td>útilê</td>\n      <td>útilê</td>\n      <td>útilê</td>\n      <td>útilê</td>\n      <td>útilê</td>\n    </tr>\n    <tr>\n      <th>556420</th>\n      <td>úvea</td>\n      <td>úbea</td>\n      <td>úbea</td>\n      <td>úbea</td>\n      <td>úbea</td>\n      <td>úbea</td>\n      <td>úbea</td>\n      <td>úbea</td>\n      <td>úbea</td>\n    </tr>\n    <tr>\n      <th>556421</th>\n      <td>úveas</td>\n      <td>úbeâ</td>\n      <td>úbeâ</td>\n      <td>úbeâ</td>\n      <td>úbeâ</td>\n      <td>úbeâ</td>\n      <td>úbeâ</td>\n      <td>úbeâ</td>\n      <td>úbeâ</td>\n    </tr>\n    <tr>\n      <th>556422</th>\n      <td>úvula</td>\n      <td>úbula</td>\n      <td>úbula</td>\n      <td>úbula</td>\n      <td>úbula</td>\n      <td>úbula</td>\n      <td>úbula</td>\n      <td>úbula</td>\n      <td>úbula</td>\n    </tr>\n    <tr>\n      <th>556423</th>\n      <td>úvulas</td>\n      <td>úbulâ</td>\n      <td>úbulâ</td>\n      <td>úbulâ</td>\n      <td>úbulâ</td>\n      <td>úbulâ</td>\n      <td>úbulâ</td>\n      <td>úbulâ</td>\n      <td>úbulâ</td>\n    </tr>\n  </tbody>\n</table>\n</div>"
     },
     "metadata": {},
     "output_type": "execute_result",
     "execution_count": 8
    }
   ],
   "source": [
    "df.tail()"
   ],
   "metadata": {
    "collapsed": false,
    "pycharm": {
     "name": "#%%\n",
     "is_executing": false
    }
   }
  },
  {
   "cell_type": "code",
   "execution_count": null,
   "outputs": [],
   "source": [
    "\n"
   ],
   "metadata": {
    "collapsed": false,
    "pycharm": {
     "name": "#%%\n"
    }
   }
  }
 ],
 "metadata": {
  "language_info": {
   "codemirror_mode": {
    "name": "ipython",
    "version": 2
   },
   "file_extension": ".py",
   "mimetype": "text/x-python",
   "name": "python",
   "nbconvert_exporter": "python",
   "pygments_lexer": "ipython2",
   "version": "2.7.6"
  },
  "kernelspec": {
   "name": "pycharm-857a084d",
   "language": "python",
   "display_name": "PyCharm (RandomCoding)"
  },
  "pycharm": {
   "stem_cell": {
    "cell_type": "raw",
    "source": [],
    "metadata": {
     "collapsed": false
    }
   }
  }
 },
 "nbformat": 4,
 "nbformat_minor": 0
}